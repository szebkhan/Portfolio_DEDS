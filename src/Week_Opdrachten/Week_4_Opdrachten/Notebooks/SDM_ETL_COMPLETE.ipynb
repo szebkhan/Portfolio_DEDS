{
 "cells": [
  {
   "cell_type": "markdown",
   "metadata": {},
   "source": [
    "# COMPLEET SDM"
   ]
  },
  {
   "cell_type": "code",
   "execution_count": null,
   "metadata": {},
   "outputs": [],
   "source": [
    "import pandas as pd\n",
    "import pyodbc\n",
    "from datetime import datetime"
   ]
  },
  {
   "cell_type": "markdown",
   "metadata": {},
   "source": [
    "Connectie met SDM en nieuwe SQLites:"
   ]
  },
  {
   "cell_type": "code",
   "execution_count": null,
   "metadata": {},
   "outputs": [],
   "source": [
    "go_sales_conn = sqlite3.connect(\"../../../data/raw/go_sales_volledig.sqlite\")\n",
    "go_crm_conn = sqlite3.connect(\"../../../data/raw/go_crm_volledig.sqlite\")\n",
    "go_staff_conn = sqlite3.connect(\"../../../data/raw/go_staff_volledig.sqlite\")\n",
    "\n",
    "\n",
    "DB = {\"servername\": r\"localhost,1433\", \"database\": \"sdm\", \"username\": \"sa\", \"password\": \"iDTyjZx7dRL4\"}\n",
    "\n",
    "sdm = pyodbc.connect(\n",
    "    f\"DRIVER={{ODBC Driver 17 for SQL Server}};\"\n",
    "    f\"SERVER={DB['servername']};\"\n",
    "    f\"DATABASE={DB['database']};\"\n",
    "    f\"UID={DB['username']};\"\n",
    "    f\"PWD={DB['password']}\"\n",
    ")"
   ]
  },
  {
   "cell_type": "markdown",
   "metadata": {},
   "source": [
    "DataFrames maken"
   ]
  },
  {
   "cell_type": "code",
   "execution_count": null,
   "metadata": {},
   "outputs": [],
   "source": [
    "def create_dataframes_sql(connection, db_type):\n",
    "    dictionary : dict = {}\n",
    "    query : str = \"\"\n",
    "    key : str = \"\"\n",
    "\n",
    "    if (db_type == \"sqlite\"):\n",
    "        query = \"SELECT name FROM sqlite_master WHERE type='table';\"\n",
    "        key = \"name\"\n",
    "    elif (db_type == \"ssms\"):\n",
    "        query = \"SELECT TABLE_NAME FROM INFORMATION_SCHEMA.TABLES WHERE TABLE_TYPE = 'BASE TABLE';\"\n",
    "        key = \"TABLE_NAME\"\n",
    "\n",
    "    table_names = pd.read_sql(query, connection)\n",
    "\n",
    "    for table in table_names[key].tolist():\n",
    "        dictionary[table] = pd.read_sql(f\"SELECT * FROM {table}\", connection)\n",
    "\n",
    "    return dictionary\n",
    "\n",
    "go_sales_tables = create_dataframes_sql(go_sales_conn, \"sqlite\")\n",
    "go_crm_tables = create_dataframes_sql(go_crm_conn, \"sqlite\")\n",
    "go_staff_tables = create_dataframes_sql(go_staff_conn, \"sqlite\")\n",
    "\n",
    "sdm_current = create_dataframes_sql(sdm, \"ssms\")"
   ]
  },
  {
   "cell_type": "markdown",
   "metadata": {},
   "source": [
    "Transformen van data:"
   ]
  },
  {
   "cell_type": "code",
   "execution_count": null,
   "metadata": {},
   "outputs": [
    {
     "ename": "NameError",
     "evalue": "name 'go_sales_tables' is not defined",
     "output_type": "error",
     "traceback": [
      "\u001b[31m---------------------------------------------------------------------------\u001b[39m",
      "\u001b[31mNameError\u001b[39m                                 Traceback (most recent call last)",
      "\u001b[36mCell\u001b[39m\u001b[36m \u001b[39m\u001b[32mIn[1]\u001b[39m\u001b[32m, line 1\u001b[39m\n\u001b[32m----> \u001b[39m\u001b[32m1\u001b[39m go_sdm_tables = \u001b[43mgo_sales_tables\u001b[49m | go_crm_tables | go_staff_tables \u001b[38;5;66;03m# Alle drie mergen in 1 Dictionary met alle DataFrames\u001b[39;00m\n\u001b[32m      3\u001b[39m \u001b[38;5;66;03m# DataFrames met ontbrekende/verkeerd genoemde rows updaten:\u001b[39;00m\n\u001b[32m      4\u001b[39m go_sdm_tables[\u001b[33m\"\u001b[39m\u001b[33mcountry\u001b[39m\u001b[33m\"\u001b[39m][\u001b[33m\"\u001b[39m\u001b[33mLANGUAGE\u001b[39m\u001b[33m\"\u001b[39m] = go_sales_tables[\u001b[33m\"\u001b[39m\u001b[33mcountry\u001b[39m\u001b[33m\"\u001b[39m][\u001b[33m\"\u001b[39m\u001b[33mLANGUAGE\u001b[39m\u001b[33m\"\u001b[39m]\n",
      "\u001b[31mNameError\u001b[39m: name 'go_sales_tables' is not defined"
     ]
    }
   ],
   "source": [
    "go_sdm_tables = go_sales_tables | go_crm_tables | go_staff_tables # Alle drie mergen in 1 Dictionary met alle DataFrames\n",
    "\n",
    "# DataFrames met ontbrekende/verkeerd genoemde rows updaten:\n",
    "go_sdm_tables[\"country\"][\"LANGUAGE\"] = go_sales_tables[\"country\"][\"LANGUAGE\"]\n",
    "\n",
    "go_sdm_tables[\"country\"][\"CURRENCY_NAME\"] = go_sales_tables[\"country\"][\"CURRENCY_NAME\"]\n",
    "\n",
    "go_sdm_tables[\"country\"] = go_sdm_tables[\"country\"].rename(columns={'COUNTRY_EN': 'COUNTRY'})\n",
    "\n",
    "go_sdm_tables[\"product_line\"] = go_sales_tables[\"product_line\"]\n",
    "\n",
    "try:\n",
    "    go_sdm_tables[\"retailer_headquarters\"].drop('POSTAL_ZONE', axis=1, inplace=True)\n",
    "except KeyError:\n",
    "    print(\"Removal of Postal Zone in tables has already been complete.\")"
   ]
  },
  {
   "cell_type": "markdown",
   "metadata": {},
   "source": [
    "Mergen van Dictionary dataframes en duplicates weg halen:"
   ]
  },
  {
   "cell_type": "code",
   "execution_count": null,
   "metadata": {},
   "outputs": [],
   "source": [
    "def merge_and_remove_duplicates(sdm_current, sdm_new):\n",
    "    merged_dfs = {}\n",
    "    for table in sdm_new:\n",
    "        if table in sdm_current:\n",
    "            combined = pd.concat([sdm_current[table], sdm_new[table]], ignore_index=True)\n",
    "            new_rows_only = combined.drop_duplicates()\n",
    "        else:\n",
    "            new_rows_only = sdm_new[table]\n",
    "        merged_dfs[table] = new_rows_only\n",
    "    return merged_dfs\n",
    "\n",
    "sdm_new = merge_and_remove_duplicates(sdm_current, go_sdm_tables)\n",
    "\n",
    "# Dictionary in goede volgorde zetten (om inserts goed te laten werken):\n",
    "dict_order = [\n",
    "    'sales_territory', \n",
    "    'country', \n",
    "    'order_method', \n",
    "    'retailer_site', \n",
    "    'sales_branch', \n",
    "    'sales_staff', \n",
    "    'retailer_contact', \n",
    "    'order_header', \n",
    "    'product_line', \n",
    "    'product_type', \n",
    "    'product', \n",
    "    'order_details', \n",
    "    'return_reason', \n",
    "    'returned_item', \n",
    "    'course', \n",
    "    'satisfaction_type', \n",
    "    'satisfaction', \n",
    "    'training',\n",
    "    'age_group',\n",
    "    'retailer_segment',\n",
    "    'retailer_headquarters',\n",
    "    'retailer_type',\n",
    "    'retailer'\n",
    "    'sales_demographic',\n",
    "    'inventory_levels',\n",
    "    'forecast'\n",
    "]\n",
    "\n",
    "sdm_new = {k: sdm_new[k] for k in dict_order if k in sdm_new}"
   ]
  },
  {
   "cell_type": "markdown",
   "metadata": {},
   "source": [
    "Loaden van data dat nog niet in SSMS database zit:"
   ]
  },
  {
   "cell_type": "code",
   "execution_count": null,
   "metadata": {},
   "outputs": [],
   "source": [
    "export_cursor = sdm.cursor()\n",
    "\n",
    "for table_name, df in sdm_new.items():\n",
    "    try:\n",
    "        for index, row in df.iterrows():\n",
    "            columns = df.columns.tolist()\n",
    "\n",
    "            values = []\n",
    "            for col in columns:\n",
    "                value = row[col]\n",
    "\n",
    "                if pd.isna(value):\n",
    "                    values.append(\"NULL\")\n",
    "\n",
    "                elif isinstance(value, str):\n",
    "                    values.append(f\"'{value.replace(\"'\", \"''\")}'\")\n",
    "\n",
    "                else:\n",
    "                    values.append(str(value))\n",
    "\n",
    "            column_names = \", \".join(columns)\n",
    "            value_string = \", \".join(values)\n",
    "            query = f\"INSERT INTO {table_name} ({column_names}) VALUES ({value_string})\"\n",
    "\n",
    "            export_cursor.execute(query)\n",
    "    except pyodbc.Error as e:\n",
    "        print(f\"Error in table: {table_name}\")\n",
    "        print(f\"Query: {query}\")\n",
    "        print(f\"Error message: {e}\")\n",
    "        print(\"-\" * 80)\n",
    "\n",
    "sdm.commit()\n",
    "export_cursor.close()"
   ]
  }
 ],
 "metadata": {
  "kernelspec": {
   "display_name": ".venv",
   "language": "python",
   "name": "python3"
  },
  "language_info": {
   "codemirror_mode": {
    "name": "ipython",
    "version": 3
   },
   "file_extension": ".py",
   "mimetype": "text/x-python",
   "name": "python",
   "nbconvert_exporter": "python",
   "pygments_lexer": "ipython3",
   "version": "3.13.2"
  }
 },
 "nbformat": 4,
 "nbformat_minor": 2
}
