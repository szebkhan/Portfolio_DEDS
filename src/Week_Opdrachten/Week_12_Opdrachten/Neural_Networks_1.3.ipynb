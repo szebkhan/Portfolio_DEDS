{
 "cells": [
  {
   "cell_type": "code",
   "execution_count": 1,
   "id": "2fc506f7",
   "metadata": {},
   "outputs": [],
   "source": [
    "import numpy as np\n",
    "import random\n",
    "\n",
    "def sigmoid(x):\n",
    "    return 1 / (1 + np.exp(-x))\n",
    "\n",
    "def sigmoid_derivative(x):\n",
    "    return x * (1 - x)\n",
    "\n",
    "def matmul(A, B):\n",
    "    result = [[0 for _ in range(len(B[0]))] for _ in range(len(A))]\n",
    "    for i in range(len(A)):\n",
    "        for j in range(len(B[0])):\n",
    "            for k in range(len(B)):\n",
    "                result[i][j] += A[i][k] * B[k][j]\n",
    "    return np.array(result)"
   ]
  },
  {
   "cell_type": "markdown",
   "id": "29ca10af",
   "metadata": {},
   "source": [
    "Neural Network"
   ]
  },
  {
   "cell_type": "code",
   "execution_count": 2,
   "id": "58d43ae6",
   "metadata": {},
   "outputs": [],
   "source": [
    "class NeuralNetwork:\n",
    "    def __init__(self, input_size, hidden1_size, hidden2_size, output_size):\n",
    "        self.W1 = np.random.rand(input_size, hidden1_size)\n",
    "        self.b1 = np.zeros((1, hidden1_size))\n",
    "\n",
    "        self.W2 = np.random.rand(hidden1_size, hidden2_size)\n",
    "        self.b2 = np.zeros((1, hidden2_size))\n",
    "\n",
    "        self.W3 = np.random.rand(hidden2_size, output_size)\n",
    "        self.b3 = np.zeros((1, output_size))\n",
    "\n",
    "    def forward(self, X):\n",
    "        self.z1 = matmul(X, self.W1) + self.b1\n",
    "        self.a1 = sigmoid(self.z1)\n",
    "\n",
    "        self.z2 = matmul(self.a1, self.W2) + self.b2\n",
    "        self.a2 = sigmoid(self.z2)\n",
    "\n",
    "        self.z3 = matmul(self.a2, self.W3) + self.b3\n",
    "        self.a3 = sigmoid(self.z3)\n",
    "\n",
    "        return self.a3\n",
    "\n",
    "    def backward(self, X, y, output, learning_rate):\n",
    "        output_error = output - y\n",
    "        output_delta = output_error * sigmoid_derivative(output)\n",
    "\n",
    "        hidden2_error = matmul(output_delta, self.W3.T)\n",
    "        hidden2_delta = hidden2_error * sigmoid_derivative(self.a2)\n",
    "\n",
    "        hidden1_error = matmul(hidden2_delta, self.W2.T)\n",
    "        hidden1_delta = hidden1_error * sigmoid_derivative(self.a1)\n",
    "\n",
    "        self.W3 -= matmul(self.a2.T, output_delta) * learning_rate\n",
    "        self.b3 -= np.sum(output_delta, axis=0, keepdims=True) * learning_rate\n",
    "\n",
    "        self.W2 -= matmul(self.a1.T, hidden2_delta) * learning_rate\n",
    "        self.b2 -= np.sum(hidden2_delta, axis=0, keepdims=True) * learning_rate\n",
    "\n",
    "        self.W1 -= matmul(X.T, hidden1_delta) * learning_rate\n",
    "        self.b1 -= np.sum(hidden1_delta, axis=0, keepdims=True) * learning_rate"
   ]
  },
  {
   "cell_type": "markdown",
   "id": "c0852246",
   "metadata": {},
   "source": [
    "Data"
   ]
  },
  {
   "cell_type": "code",
   "execution_count": 3,
   "id": "629df361",
   "metadata": {},
   "outputs": [],
   "source": [
    "def flip_pixels(image, flip_rate=0.2):\n",
    "    flipped = image.copy()\n",
    "    num_flips = int(len(image) * flip_rate)\n",
    "    indices = random.sample(range(len(image)), num_flips)\n",
    "    for i in indices:\n",
    "        flipped[i] = 1 - flipped[i]\n",
    "    return flipped"
   ]
  },
  {
   "cell_type": "code",
   "execution_count": 4,
   "id": "8caa7e61",
   "metadata": {},
   "outputs": [],
   "source": [
    "X = np.array([\n",
    "    [0,1,1,0,1,0,1,0,0],\n",
    "    [1,1,0,1,0,1,0,1,1],\n",
    "    [1,0,1,0,1,0,1,0,1],\n",
    "    [1,1,1,1,0,1,1,1,1],\n",
    "    [0,0,1,0,1,0,1,0,0]\n",
    "])\n",
    "\n",
    "y = np.array([\n",
    "    [1,0,0,0,0],\n",
    "    [0,1,0,0,0],\n",
    "    [0,0,1,0,0],\n",
    "    [0,0,0,1,0],\n",
    "    [0,0,0,0,1]\n",
    "])\n",
    "\n",
    "X_noisy = np.array([flip_pixels(img, 0.2) for img in X])\n",
    "X_total = np.vstack((X, X_noisy))\n",
    "y_total = np.vstack((y, y))"
   ]
  },
  {
   "cell_type": "code",
   "execution_count": 5,
   "id": "eb779052",
   "metadata": {},
   "outputs": [
    {
     "name": "stdout",
     "output_type": "stream",
     "text": [
      "Prediction: [[0.41357794 0.14579094 0.2188718  0.1212128  0.33974379]]\n",
      "Most likely class: 0\n"
     ]
    }
   ],
   "source": [
    "nn = NeuralNetwork(input_size=9, hidden1_size=6, hidden2_size=4, output_size=5)\n",
    "\n",
    "for epoch in range(1000):\n",
    "    for i in range(len(X_total)):\n",
    "        out = nn.forward(X_total[i].reshape(1, -1))\n",
    "        nn.backward(X_total[i].reshape(1, -1), y_total[i].reshape(1, -1), out, learning_rate=0.1)\n",
    "\n",
    "test_input = X[0].reshape(1, -1)\n",
    "prediction = nn.forward(test_input)\n",
    "print(\"Prediction:\", prediction)\n",
    "print(\"Most likely class:\", np.argmax(prediction))"
   ]
  }
 ],
 "metadata": {
  "kernelspec": {
   "display_name": ".venv",
   "language": "python",
   "name": "python3"
  },
  "language_info": {
   "codemirror_mode": {
    "name": "ipython",
    "version": 3
   },
   "file_extension": ".py",
   "mimetype": "text/x-python",
   "name": "python",
   "nbconvert_exporter": "python",
   "pygments_lexer": "ipython3",
   "version": "3.13.2"
  }
 },
 "nbformat": 4,
 "nbformat_minor": 5
}
