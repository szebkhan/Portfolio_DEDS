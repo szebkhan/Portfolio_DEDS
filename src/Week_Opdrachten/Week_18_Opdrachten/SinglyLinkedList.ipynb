{
 "cells": [
  {
   "cell_type": "markdown",
   "id": "fa25a588",
   "metadata": {},
   "source": [
    "# Singly Linked List"
   ]
  },
  {
   "cell_type": "code",
   "execution_count": 20,
   "id": "0a9792e6",
   "metadata": {},
   "outputs": [],
   "source": [
    "class Node:\n",
    "    def __init__(self, data):\n",
    "        self.data = data\n",
    "        self.next = None\n",
    "\n",
    "class LinkedList:\n",
    "    def __init__(self):\n",
    "        self.head = None\n",
    "\n",
    "    def add_node(self, data):\n",
    "        new_node = Node(data)\n",
    "\n",
    "        if not self.head:\n",
    "            self.head = new_node\n",
    "        else:\n",
    "            current = self.head\n",
    "            while current.next:  # Traverse to the last node\n",
    "                current = current.next\n",
    "            current.next = new_node \n",
    "\n",
    "    def to_string():\n",
    "        current = self.head\n",
    "        list_string = \"\"\n",
    "        while current:\n",
    "            list_string = str(list_string) + str(current.data) + \" \"\n",
    "            current.next\n",
    "        \n",
    "        return list_string"
   ]
  },
  {
   "cell_type": "code",
   "execution_count": 21,
   "id": "1fe6d26f",
   "metadata": {},
   "outputs": [
    {
     "name": "stdout",
     "output_type": "stream",
     "text": [
      "<bound method LinkedList.to_string of <__main__.LinkedList object at 0x10c1fc590>>\n"
     ]
    }
   ],
   "source": [
    "list = LinkedList()\n",
    "list.add_node(50)\n",
    "list.add_node(60)\n",
    "list.add_node(70)\n",
    "\n",
    "print(list.to_string)"
   ]
  },
  {
   "cell_type": "code",
   "execution_count": null,
   "id": "a2a52d50",
   "metadata": {},
   "outputs": [],
   "source": []
  }
 ],
 "metadata": {
  "kernelspec": {
   "display_name": ".venv",
   "language": "python",
   "name": "python3"
  },
  "language_info": {
   "codemirror_mode": {
    "name": "ipython",
    "version": 3
   },
   "file_extension": ".py",
   "mimetype": "text/x-python",
   "name": "python",
   "nbconvert_exporter": "python",
   "pygments_lexer": "ipython3",
   "version": "3.13.2"
  }
 },
 "nbformat": 4,
 "nbformat_minor": 5
}
