{
 "cells": [
  {
   "cell_type": "markdown",
   "id": "fa25a588",
   "metadata": {},
   "source": [
    "# Singly Linked List"
   ]
  },
  {
   "cell_type": "code",
   "execution_count": 131,
   "id": "0a9792e6",
   "metadata": {},
   "outputs": [],
   "source": [
    "class Node:\n",
    "    def __init__(self, data):\n",
    "        self.data = data\n",
    "        self.next = None\n",
    "\n",
    "class LinkedList:\n",
    "    def __init__(self):\n",
    "        self.head = None\n",
    "        self.sorted = False\n",
    "\n",
    "    def add_node(self, data):\n",
    "        new_node = Node(data)\n",
    "\n",
    "        if self.head == None:\n",
    "            self.head = new_node\n",
    "        else:\n",
    "            current = self.head\n",
    "            while current.next:\n",
    "                current = current.next\n",
    "            current.next = new_node \n",
    "\n",
    "    def to_string(self, node=None):\n",
    "        \n",
    "        if node == None:\n",
    "            node = self.head\n",
    "            if node == None:\n",
    "                return \"\"\n",
    "        if node.next == None:\n",
    "            return str(node.data)\n",
    "        return str(node.data) + \" \" + self.to_string(node.next)\n",
    "        \n",
    "    def add_first(self, data):\n",
    "        new_list = LinkedList()\n",
    "        new_list.add_node(data)\n",
    "        new_list.head.next = self.head\n",
    "        return new_list\n",
    "    \n",
    "    def remove(self, data):\n",
    "        new_list = LinkedList()\n",
    "        self._remove_helper(self.head, data, new_list, False)\n",
    "        return new_list\n",
    "    \n",
    "    def _remove_helper(self, node, data, new_list, removed):\n",
    "        if node is None:\n",
    "            return\n",
    "        if not removed and node.data == data:\n",
    "            self._remove_helper(node.next, data, new_list, True)\n",
    "        else:\n",
    "            new_list.add_node(node.data)\n",
    "            self._remove_helper(node.next, data, new_list, removed)\n",
    "\n",
    "    def smallest(self, node=None):\n",
    "        if node == None:\n",
    "            node = self.head\n",
    "            if node == None:\n",
    "                return\n",
    "        if node.next == None:\n",
    "            return node.data\n",
    "        smallest_in_rest = self.smallest(node.next)\n",
    "        return min(node.data, smallest_in_rest)\n",
    "    \n",
    "    def sort_simple(self):\n",
    "        new_list = LinkedList()\n",
    "        current_list = self\n",
    "\n",
    "        while current_list.head != None:\n",
    "            new_list.add_node(current_list.smallest())\n",
    "            \n",
    "            current_list = current_list.remove(current_list.smallest())\n",
    "        \n",
    "        new_list.sorted = True\n",
    "        return new_list\n",
    "    \n",
    "    def uniq(self):\n",
    "        if self.sorted:\n",
    "            return self._uniq_helper(self.head, 0)\n",
    "        else:\n",
    "            print(\"Can't perform this method: list not sorted.\")\n",
    "            return\n",
    "    \n",
    "    def _uniq_helper(self, node, count):\n",
    "        if node == None:\n",
    "            return count\n",
    "        if node.next == None or node.data != node.next.data:\n",
    "            count += 1\n",
    "        return self._uniq_helper(node.next, count)"
   ]
  },
  {
   "cell_type": "markdown",
   "id": "66b0ede6",
   "metadata": {},
   "source": [
    "Tests to_string:"
   ]
  },
  {
   "cell_type": "code",
   "execution_count": 132,
   "id": "1fe6d26f",
   "metadata": {},
   "outputs": [
    {
     "name": "stdout",
     "output_type": "stream",
     "text": [
      "\n",
      "5\n",
      "10 15\n"
     ]
    }
   ],
   "source": [
    "list_empty = LinkedList()\n",
    "print(list_empty.to_string()) # Verwacht: \"\"\n",
    "\n",
    "list_one = LinkedList()\n",
    "list_one.add_node(5)\n",
    "print(list_one.to_string()) # Verwacht: \"5 \"\n",
    "\n",
    "list_two = LinkedList()\n",
    "list_two.add_node(10)\n",
    "list_two.add_node(15)\n",
    "print(list_two.to_string()) # Verwacht: \"10 15 \""
   ]
  },
  {
   "cell_type": "markdown",
   "id": "3da4002f",
   "metadata": {},
   "source": [
    "Test add_first:"
   ]
  },
  {
   "cell_type": "code",
   "execution_count": 133,
   "id": "a2a52d50",
   "metadata": {},
   "outputs": [
    {
     "name": "stdout",
     "output_type": "stream",
     "text": [
      "Before: 10 15 20\n",
      "After: 5 10 15 20\n"
     ]
    }
   ],
   "source": [
    "list = LinkedList()\n",
    "list.add_node(10)\n",
    "list.add_node(15)\n",
    "list.add_node(20)\n",
    "print(f\"Before: {list.to_string()}\")\n",
    "\n",
    "new_list = list.add_first(5)\n",
    "print(f\"After: {new_list.to_string()}\")"
   ]
  },
  {
   "cell_type": "markdown",
   "id": "e046d3e1",
   "metadata": {},
   "source": [
    "Test remove:"
   ]
  },
  {
   "cell_type": "code",
   "execution_count": 134,
   "id": "d73ff59e",
   "metadata": {},
   "outputs": [
    {
     "name": "stdout",
     "output_type": "stream",
     "text": [
      "Before: 10\n",
      "After: \n",
      "\n",
      "Before: 10 20 30 40\n",
      "After: 10 20 40\n"
     ]
    }
   ],
   "source": [
    "list = LinkedList()\n",
    "list.add_node(10)\n",
    "print(f\"Before: {list.to_string()}\")\n",
    "print(f\"After: {list.remove(10).to_string()}\\n\")\n",
    "\n",
    "list = LinkedList()\n",
    "list.add_node(10)\n",
    "list.add_node(20)\n",
    "list.add_node(30)\n",
    "list.add_node(40)\n",
    "print(f\"Before: {list.to_string()}\")\n",
    "print(f\"After: {list.remove(30).to_string()}\")"
   ]
  },
  {
   "cell_type": "markdown",
   "id": "3e00b528",
   "metadata": {},
   "source": [
    "Test sort_simple & uniq:"
   ]
  },
  {
   "cell_type": "code",
   "execution_count": null,
   "id": "f7ad2963",
   "metadata": {},
   "outputs": [
    {
     "name": "stdout",
     "output_type": "stream",
     "text": [
      "Before sort: 5 1 3 4 4 2 5 4\n",
      "After sort: 1 2 3 4 4 4 5 5\n",
      "5\n"
     ]
    }
   ],
   "source": [
    "list = LinkedList()\n",
    "list.add_node(5)\n",
    "list.add_node(1)\n",
    "list.add_node(3)\n",
    "list.add_node(4)\n",
    "list.add_node(4)\n",
    "list.add_node(2)\n",
    "list.add_node(5)\n",
    "list.add_node(4)\n",
    "\n",
    "print(f\"Before sort: {list.to_string()}\")\n",
    "\n",
    "sorted_list = list.sort_simple()\n",
    "\n",
    "print(f\"After sort: {sorted_list.to_string()}\")\n",
    "\n",
    "print(sorted_list.uniq())"
   ]
  },
  {
   "cell_type": "markdown",
   "id": "d3a90c60",
   "metadata": {},
   "source": [
    "## Read.py"
   ]
  },
  {
   "cell_type": "code",
   "execution_count": null,
   "id": "b284d521",
   "metadata": {},
   "outputs": [
    {
     "name": "stdout",
     "output_type": "stream",
     "text": [
      "00HHD8 00HHD8 02HDXS 02SBS7 02SFDG 05DJX4 05MBXG 05SBJT 07BRR4 07FRX8 07PDX5 07XXLV 08HKJ2 08MRGG 08PPG1 08PXVG 08ZPV8 09MSFB 0GV277 11HFV1 11KRH5 11TNG4 11VZVB 12MHKS 12RKNN 13DBL2 13LDL9 13NRB2 13NSR1 13YA50 14TXK6 15PVJG 15PZT6 15SGN7 15XZLN 16MGZS 17JKS9 17PZV6 17XSSL 17ZFKT 18FVJG 18RNS7 18SHN6 19DTH5 19JHP3 19MHJH 19NFN4 19NVB2 1KHN74 1KNP22 1KPS79 1KRK08 1SVJ33 1TZK85 1VGJ20 1VVG59 1XHJ73 20PJD8 20PPVG 20RZPN 20VBL6 21LNZ7 21LXTT 21MJPK 21XRG7 22FNG9 22JZH7 22PJND 23FRXZ 23HZG7 23XPSK 24HRJ6 24JJFR 24SPFD 24TPS7 24ZDZS 25HFR9 25MDLJ 25MTGS 25NSN9 25NZDL 25RKNS 26BZH4 26XGT7 27LBFS 27NNK2 27PFJ4 27ZTS2 28MFTF 28SLNX 28THJG 29HBPN 29LKBS 29TSV5 2KBN29 2KLH79 2KRV17 2VGR33 2XDX26 2XNS12 2XSJ26 2XVB99 2XXV17 30BBRG 30KDF7 30LZZ4 30MNLK 30XVNX 30ZRNN 31HLF8 31JLVZ 31KVK2 31TTR6 31VZPZ 31ZJPP 32KPT1 32PSR6 32SJSX 34DTJ4 34LVB1 34SZT6 35KXZ2 35THDP 35XFJN 35XZS1 35ZFXZ 36SGD1 38LDH1 38NSFR 38SNN4 38SZVL 38XRZ1 39GFD6 39GFN7 39GPK5 3KST49 3TDZ16 3TKH15 3TZL07 3VZT40 3XJS79 3ZDT98 3ZHK23 3ZKJ48 40HLT7 40JSLX 40MFSL 40RJFH 41HXH2 41SLD6 41TBV5 41XPFT 42MLZV 43FHL5 43GKP6 43MDRS 44THN3 44XHGD 44ZRLX 45PSKH 45SGL4 45SRL7 45XXH8 46GFTK 46GGJ3 46RXV3 46THK6 47MPNX 47TTVF 47ZRJ7 48RHFG 48SXNF 48TFXB 48XGT8 48XXS9 49BLR3 49KZH5 49RDVB 49RDZ7 49SNP8 4KDT20 4KJB26 4TPK34 4VKF07 4XFB24 4XRP60 4XXF96 4ZFH74 50JKS9 51KXD6 51PLJB 51SKN2 52MKBG 53RRTB 54FDPX 54TFJ1 55LSP5 55NRS6 55TGZ2 55XBT8 55ZPNV 56GJH3 57GTZ1 57PKDZ 57XJZD 58EZ29 58HPK6 58JKK2 58TZG2 59LKJ9 59NLK9 5KKL88 5KNH19 5THJ61 5ZPT09 60KKR1 60RBHG 61RFHT 61SRRK 61TNK2 62NND6 63GXVX 63XDPD 64FHT6 64VSPL 6564XJ 65DNT7 65XPX2 66RDVR 66TZVN 66VKD8 66XDTP 67HRVH 67JKS9 67KHG8 67RVP9 67ZDS4 68JZSN 68SKHB 68XKK2 68ZLR4 69SLNL 69SNXR 69SRGD 69TRDX 6KPV44 6SFN83 6SLL46 6SPS66 6SRH33 6TDB40 6TDT81 6XDH94 6XFK52 6XJD82 6XNB67 6XPR68 6XPS83 6ZGS12 6ZSB08 70SKN6 71JLJ2 71JZH4 71LZX4 71SVDB 72FXB6 72LSX6 72NTJN 72TFTD 72TRJX 73BNN7 73DHPS 73GDH9 73PNV5 73RPT7 73TTRZ 73ZHVT 73ZNH7 74LPVJ 74SFT1 74VHS3 74ZRXK 75DVJ5 75TGB1 77KLH1 77NDN1 78DTZR 78RRN7 79NLJ3 79XKB8 7GV047 7KFL34 7KHJ19 7KLB96 7SPH11 7TNS50 7TVP89 7XBV38 7XGT94 7ZKJ11 80DJF9 80HJFL 80JBV6 80RSF7 81SPGT 81TSN2 81ZNNP 82LDS6 82RKXB 82SPBL 82XVTN 83BSKK 83DDF8 83MHFH 83MKRN 83NJKB 84BRH2 84MGVF 84RLD3 85RVF7 85VTF7 86RJPB 87JHPH 87PRVB 87SZGR 87ZTD2 88HKB2 88PRRF 88RDT8 89BTG4 89HDX3 89NNR1 89RRSN 89SVJ3 8SRX42 8TDL12 8VJT27 8XLF16 8ZFV93 8ZKT19 8ZND91 8ZNG76 8ZTD49 90MNTX 91PNJX 91XBGF 91XXZX 92DLF9 92FSZV 92RXV3 92ZRLN 93KJX5 93NGS3 93NXF1 93XBX4 94GZT6 94RZPG 94ZLL8 95JJGJ 95LDH4 95LGX9 96JXR9 96PHXV 97ZLX2 98GGG9 98HLVS 98NHJ2 99FNZV 99MSTX 99PTKK 9KNV31 9SNZ47 9SRF92 9SXL11 9TFD46 9TNR62 9TTD52 9TZZ45 9VRV87 9XHV52 9XNP06 AR6944 BD01BN BD01BN BH98JR D263JB D297GT D351RX D490FJ D571RK D595SK D637KH D676ZS D691HP DBF25P DBH09D DBJ97L DBPV77 DDT24T DDZ86B DF006X DFV30N DFX75T DG168Z DGL40K DGS43X DGT76K DH4708 DHV35T DJ671S DJP18X DJX48P DKS43H DL0206 DN515D DNH95R DNZ88N DP767Z DPB94J DPK98G DPR79S DR174J DR335T DRF72X DS518R DS66VG DSP50V DSR66B DSX97T DT428K DV384S DVL98Z DXN21X DZ5638 DZ860H EB7128 F064JR F080TJ F229NL F239JN F296FN F616LV F851ZX F883PH F912FN F943HS FBS13J FGP75X FH327V FHF47Z FHG78D FJB27P FJL24R FJS89F FJS99X FK46DG FKB19H FKX40J FLS52X FN484G FNB82J FNN90T FPT31S FRK22G FRP86H FRP92R FS597B FST94F G067NZ G086VV G141FV G427KH G443LD G638JT G758HT G774TV G979FR GBD23Z GBZ89Z GD271V GDG88G GDP46J GF860P GFN20K GFT06S GFZ88D GGL20F GH592R GHK12P GHZ14G GJ524R GJK14V GJP87J GKD08L GKX52Z GL601F GLV49G GNB71K GNX89G GPB60N GR336K GR583L GRK26F GS58BT GSJ14S GSJ28X GSP07N GSR06P GTJ63F GTX70B GV239Z GV730R GVB47L GVF76D GVL90B GVR12Z GVR29S GX270Z GZ735X GZD52S GZG39B GZS69J GZX98S H002HN H071PD H183LR H258PZ H342RH H387VX H476TJ H490VK H499GX H584TV H592DR H611NP H696DS H738PF H810LF H817RV H826LH H885HG H885PK H886SP H918DZ H960FV H963TP H965DB H990GK HBG36Z HD794X HDD27B HF196L HG221K HJ082T HJ369S HJ742V HL868L HN89RY HP938J HR167T HT934X HV314H HX135R HY81HS J005LH J035RJ J068NN J074XN J106RN J139SP J161LK J297FP J350TK J357SH J360VS J455BH J516SB J565FZ J570TB J616GZ J657LX J777XV J814FK J835XT J881BZ J882GJ JB517Z JF879J JH781S JNSN28 JR284B JR336H JS712F JT948Z JV528P JV871R JZ428L K020VV K023XF K052ZH K067PZ K131DN K185JV K328KH K347HN K350SV K458NG K473GD K482XZ K551JN K599JH K635XJ K654BV K655FS K657RG K679ZB K711VD K748ZS K845GB K908BL K921NB KB254F KD357D KF502L KF853R KH124S KH619J KN084G KN499F KT020T KT259D KT421D KT607F KV571Z KV698D KV976V KV979S L144SB L194RK L222TT L303JK L322RZ L452PK L455BR L501LV L521PP L561VV L582KX L585BB L628NH L707DX L739RZ L770VS L818DF LF85VD LJ53XL MD10KH MDSZ67 MFXG94 MH1248 MH44FH MJDG63 MJGN81 MK15YF MK18XB MK73ZH MK76KP MLRN64 MLXG53 MN38JP MN57XS MNGL70 MPHZ67 MR04DG MRFL96 MRVL92 MRZV60 MSZZ94 MVHD59 MVJX23 MXTT36 N030PB N058NF N092XT N126KN N157LS N245XS N267TF N284SP N290DV N334SN N351XD N490VF N520ZP N552FL N572TN N583DS N678ZG N712PV N735BJ N769KT N851HF N878DD N912KL NG565J NG974N NH610L NN079B NP754B NR012J NR773S NR942R NS607Z NSLH36 NT75BN NV130B NVDS15 P045VG P046HJ P104JD P177ST P237DB P296DX P326HB P404PD P476JK P495HJ P505DL P597KZ P842KS P875GJ P982HT PB013N PD711H PG017L PG802X PG809B PH683F PK322F PL742R PN061K PN966L PS638N PS938R PX664N PXBG15 R139GV R146TN R190FT R283KP R292LP R372JV R478GK R530VB R540GX R657RZ R675SZ R753RN R767NS R781HD R873NP R966RZ RB844K RD058N RD317P RF481R RF916T RJ928P RK614N RL671T RS964F RT141P RT371T RV577K RX256Z RX96YY S021TX S093SK S182GS S203JK S217BG S274XV S287TP S356ZG S503KL S568FN S595JZ S745LR S783JV S853JP S979ZR SB487B SG382Z SG834K SH225S SJ107Z SJ169N SJ535H SK901N SL749F SN475J SN518T SN616D SN747T SN886J SPTD32 SRDB12 ST491T ST905K SX126X SX25BZ T006BB T037HT T058TX T105DD T171DS T174TD T247FS T324KK T368GL T372VD T460RX T507VN T518XD T52FLZ T541TV T600TT T633SV T697XN T73DKK T75BFD T916VK T925BB T93BDL T973NL TBP94F TBT25R TD569F TD613L TDH71B TF247G TF357G TF707N TFD27J TFS23F TG9617 TGP81G TGS53Z TH305X THR61F THV25S TJF77H TK519K TKD07J TKK23N TLF63L TN281H TN36YH TN905K TP361L TR524S TSH25F TSJ26G TSJ82X TT043J TT704J TTD57L TTT60L TV398V TVF66Z TVG41G TXHJ10 TXK93J TZ702V TZ798N UH0311 V10JTK V133PH V19GHN V305KP V32FHF V332PR V338VF V50JJL V51KJZ V584DT V602SG V69LGH V70DHL V70LDS V758ZJ V771PX V87JXH V887BD V968KP V96GNR VB207F VB336F VBP15X VFH80G VFP15J VFS18H VFS57G VFV90R VFX05B VGB05X VGN40P VGS91N VHJ07T VJK77B VJZ82P VKB53F VKD51Z VKF39S VKJ14H VKS06P VLN49L VN967P VRJ77G VRN85J VRR49S VS430K VSG99T VT081D VV781V VV940P VVT95B VX775F VZF02V VZFX50 VZL74B X047XV X053SL X231DS X243ZF X252JB X306FB X330PS X426FG X483BS X522ZB X527HB X614HX X628RX X653LV X759RH X887ZZ X912TF XB168B XB356X XB423Z XB554H XD697K XF048D XF641V XGBG29 XJ263N XJ404G XK093L XK406F XN720T XP383L XP625H XP823K XR439P XT078K XT509S XTBS47 XX615V XZ857X Z019RZ Z237KX Z242JD Z451NJ Z488FH Z545GS Z556DJ Z610GZ Z615JX Z690LG Z801KS Z912RX Z923GF Z980KK ZB532X ZB829N ZH124L ZHGF46 ZJXD56 ZK168F ZK509P ZK682N ZL107T ZP516P ZR704D ZT021P ZT198B ZT805P ZT990N ZV432B\n",
      "There are 998 license plates.\n"
     ]
    }
   ],
   "source": [
    "import csv\n",
    "import sys\n",
    "\n",
    "sys.setrecursionlimit(20000000)\n",
    "\n",
    "kentekens = LinkedList()\n",
    "\n",
    "with open(r\"1000kentekens.txt\") as f:\n",
    "    reader = csv.reader(f, delimiter=',')\n",
    "    for row in reader:\n",
    "        kentekens = kentekens.add_first(row[0])\n",
    "\n",
    "kentekens = kentekens.sort_simple()\n",
    "\n",
    "print(kentekens.to_string())\n",
    "print(f\"There are {kentekens.uniq()} unique license plates.\")"
   ]
  },
  {
   "cell_type": "code",
   "execution_count": null,
   "id": "50bb10b6",
   "metadata": {},
   "outputs": [],
   "source": []
  }
 ],
 "metadata": {
  "kernelspec": {
   "display_name": ".venv",
   "language": "python",
   "name": "python3"
  },
  "language_info": {
   "codemirror_mode": {
    "name": "ipython",
    "version": 3
   },
   "file_extension": ".py",
   "mimetype": "text/x-python",
   "name": "python",
   "nbconvert_exporter": "python",
   "pygments_lexer": "ipython3",
   "version": "3.13.2"
  }
 },
 "nbformat": 4,
 "nbformat_minor": 5
}
