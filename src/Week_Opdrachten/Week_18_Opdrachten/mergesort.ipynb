{
 "cells": [
  {
   "cell_type": "code",
   "execution_count": 1,
   "id": "c12ce330",
   "metadata": {},
   "outputs": [],
   "source": [
    "class Node:\n",
    "    def __init__(self, data):\n",
    "        self.data = data\n",
    "        self.next = None\n",
    "\n",
    "class LinkedList:\n",
    "    def __init__(self):\n",
    "        self.head = None\n",
    "        self.sorted = False\n",
    "\n",
    "    def add_node(self, data):\n",
    "        new_node = Node(data)\n",
    "\n",
    "        if self.head == None:\n",
    "            self.head = new_node\n",
    "        else:\n",
    "            current = self.head\n",
    "            while current.next:\n",
    "                current = current.next\n",
    "            current.next = new_node \n",
    "\n",
    "    def to_string(self, node=None):\n",
    "        \n",
    "        if node == None:\n",
    "            node = self.head\n",
    "            if node == None:\n",
    "                return \"\"\n",
    "        if node.next == None:\n",
    "            return str(node.data)\n",
    "        return str(node.data) + \" \" + self.to_string(node.next)\n",
    "        \n",
    "    def add_first(self, data):\n",
    "        new_list = LinkedList()\n",
    "        new_list.add_node(data)\n",
    "        new_list.head.next = self.head\n",
    "        return new_list\n",
    "    \n",
    "    def remove(self, data):\n",
    "        new_list = LinkedList()\n",
    "        self._remove_helper(self.head, data, new_list, False)\n",
    "        return new_list\n",
    "    \n",
    "    def _remove_helper(self, node, data, new_list, removed):\n",
    "        if node is None:\n",
    "            return\n",
    "        if not removed and node.data == data:\n",
    "            self._remove_helper(node.next, data, new_list, True)\n",
    "        else:\n",
    "            new_list.add_node(node.data)\n",
    "            self._remove_helper(node.next, data, new_list, removed)\n",
    "\n",
    "    def smallest(self, node=None):\n",
    "        if node == None:\n",
    "            node = self.head\n",
    "            if node == None:\n",
    "                return\n",
    "        if node.next == None:\n",
    "            return node.data\n",
    "        smallest_in_rest = self.smallest(node.next)\n",
    "        return min(node.data, smallest_in_rest)\n",
    "    \n",
    "    def sort_simple(self):\n",
    "        new_list = LinkedList()\n",
    "        current_list = self\n",
    "\n",
    "        while current_list.head != None:\n",
    "            new_list.add_node(current_list.smallest())\n",
    "            \n",
    "            current_list = current_list.remove(current_list.smallest())\n",
    "        \n",
    "        new_list.sorted = True\n",
    "        return new_list\n",
    "    \n",
    "    def uniq(self):\n",
    "        if self.sorted:\n",
    "            return self._uniq_helper(self.head, 0)\n",
    "        else:\n",
    "            print(\"Can't perform this method: list not sorted.\")\n",
    "            return\n",
    "    \n",
    "    def _uniq_helper(self, node, count):\n",
    "        if node == None:\n",
    "            return count\n",
    "        if node.next == None or node.data != node.next.data:\n",
    "            count += 1\n",
    "        return self._uniq_helper(node.next, count)\n",
    "    \n",
    "    def sub_list(self, start, end): # Tijdscomplexiteit: O(n^2)\n",
    "        new_list = LinkedList()\n",
    "        self._sub_list_helper(new_list, start, end, self.head, 0, False)\n",
    "        return new_list\n",
    "\n",
    "    def _sub_list_helper(self, list, start, end, node, count, has_started):\n",
    "        if count == start:\n",
    "            has_started = True\n",
    "\n",
    "        if count == end:\n",
    "            return\n",
    "        \n",
    "        if has_started:\n",
    "            list.add_node(node.data)\n",
    "        \n",
    "        count += 1\n",
    "        self._sub_list_helper(list, start, end, node.next, count, has_started)\n",
    "\n",
    "    def merge(self, list): # Tijdscomplexiteit: O(n + m)\n",
    "        new_list = LinkedList()\n",
    "        new_list.head = self._merge_helper(self.head, list.head)\n",
    "        new_list.sorted = True\n",
    "        return new_list\n",
    "\n",
    "        \n",
    "    def _merge_helper(self, node1, node2):\n",
    "        if node1 == None:\n",
    "            return node2\n",
    "        if node2 == None:\n",
    "            return node1\n",
    "        \n",
    "        if node1.data <= node2.data:\n",
    "            result = Node(node1.data)\n",
    "            result.next = self._merge_helper(node1.next, node2)\n",
    "        else:\n",
    "            result = Node(node2.data)\n",
    "            result.next = self._merge_helper(node1, node2.next)\n",
    "        \n",
    "        return result\n",
    "\n",
    "    def _length(self):\n",
    "        count = 0\n",
    "        current = self.head\n",
    "        while current:\n",
    "            count += 1\n",
    "            current = current.next\n",
    "        return count\n",
    "    \n",
    "\n",
    "    def sort_merge(self): # Tijdscomplexiteit:  O(n^2 log n)\n",
    "        if self.head == None or self.head.next == None:\n",
    "            return self\n",
    "        \n",
    "        mid = self._length() // 2\n",
    "        left = self.sub_list(0, mid)\n",
    "        right = self.sub_list(mid, self._length())\n",
    "\n",
    "        sorted_left = left.sort_merge()\n",
    "        sorted_right = right.sort_merge()\n",
    "\n",
    "        return sorted_left.merge(sorted_right)"
   ]
  },
  {
   "cell_type": "markdown",
   "id": "d4e3799d",
   "metadata": {},
   "source": [
    "Test sub_list:"
   ]
  },
  {
   "cell_type": "code",
   "execution_count": 2,
   "id": "77cadc1d",
   "metadata": {},
   "outputs": [
    {
     "data": {
      "text/plain": [
       "'1 3 4'"
      ]
     },
     "execution_count": 2,
     "metadata": {},
     "output_type": "execute_result"
    }
   ],
   "source": [
    "list = LinkedList()\n",
    "list.add_node(5)\n",
    "list.add_node(1)\n",
    "list.add_node(3)\n",
    "list.add_node(4)\n",
    "list.add_node(4)\n",
    "list.add_node(2)\n",
    "list.add_node(5)\n",
    "list.add_node(4)\n",
    "\n",
    "new_list = list.sub_list(1, 4) # Verwacht is: '1 3 4'\n",
    "new_list.to_string()"
   ]
  },
  {
   "cell_type": "markdown",
   "id": "8d1966c5",
   "metadata": {},
   "source": [
    "Test merge:"
   ]
  },
  {
   "cell_type": "code",
   "execution_count": 3,
   "id": "a646d25d",
   "metadata": {},
   "outputs": [
    {
     "data": {
      "text/plain": [
       "'1 1 1 2 2 2 3 3 3 4 4 4 5 5'"
      ]
     },
     "execution_count": 3,
     "metadata": {},
     "output_type": "execute_result"
    }
   ],
   "source": [
    "list = LinkedList()\n",
    "list.add_node(1)\n",
    "list.add_node(2)\n",
    "list.add_node(3)\n",
    "list.add_node(4)\n",
    "list.add_node(4)\n",
    "list.add_node(4)\n",
    "list.add_node(5)\n",
    "list.add_node(5)\n",
    "\n",
    "list2 = LinkedList()\n",
    "list2.add_node(1)\n",
    "list2.add_node(1)\n",
    "list2.add_node(2)\n",
    "list2.add_node(2)\n",
    "list2.add_node(3)\n",
    "list2.add_node(3)\n",
    "\n",
    "list.merge(list2).to_string() # Verwacht: '1 1 1 2 2 2 3 3 3 4 4 4 5 5'\n"
   ]
  },
  {
   "cell_type": "markdown",
   "id": "34d06bdf",
   "metadata": {},
   "source": [
    "### Opdracht 5: Een lijst met n elementen kan ongeveer log2 (n) keer worden gesplitst in tweeën voordat je alleen nog lijsten van 1 element overhoudt."
   ]
  },
  {
   "cell_type": "markdown",
   "id": "340cd52f",
   "metadata": {},
   "source": [
    "Test sort_merge:"
   ]
  },
  {
   "cell_type": "code",
   "execution_count": 4,
   "id": "35a3d627",
   "metadata": {},
   "outputs": [
    {
     "name": "stdout",
     "output_type": "stream",
     "text": [
      "1 2 3 3 4 4 4 5 5\n"
     ]
    }
   ],
   "source": [
    "list = LinkedList()\n",
    "list.add_node(1)\n",
    "list.add_node(4)\n",
    "list.add_node(5)\n",
    "list.add_node(4)\n",
    "list.add_node(2)\n",
    "list.add_node(4)\n",
    "list.add_node(3)\n",
    "list.add_node(5)\n",
    "list.add_node(3)\n",
    "\n",
    "sorted_list = list.sort_merge() # Verwacht: '1 2 3 3 4 4 4 5 5'\n",
    "print(sorted_list.to_string())"
   ]
  },
  {
   "cell_type": "markdown",
   "id": "5dc0fb2b",
   "metadata": {},
   "source": [
    "## Read.py met mergesort een grote dataset:"
   ]
  },
  {
   "cell_type": "code",
   "execution_count": null,
   "id": "930410a5",
   "metadata": {},
   "outputs": [],
   "source": [
    "import csv\n",
    "import sys\n",
    "\n",
    "sys.setrecursionlimit(20000000)\n",
    "\n",
    "kentekens = LinkedList()\n",
    "\n",
    "with open(r\"groot_dataset.csv\") as f:\n",
    "    reader = csv.reader(f, delimiter=',')\n",
    "    for row in reader:\n",
    "        kentekens = kentekens.add_first(row[0])\n",
    "\n",
    "kentekens = kentekens.sort_merge()\n",
    "\n",
    "print(kentekens.to_string())\n",
    "print(f\"There are {kentekens.uniq()} unique license plates.\")"
   ]
  },
  {
   "cell_type": "markdown",
   "id": "86bf2985",
   "metadata": {},
   "source": [
    "Werkt nog steeds niet, waarschijnlijk vanwege te trage tijdscomplexiteit."
   ]
  },
  {
   "cell_type": "markdown",
   "id": "2e8a33be",
   "metadata": {},
   "source": []
  }
 ],
 "metadata": {
  "kernelspec": {
   "display_name": "portfolio_deds-3.13",
   "language": "python",
   "name": "python3"
  },
  "language_info": {
   "codemirror_mode": {
    "name": "ipython",
    "version": 3
   },
   "file_extension": ".py",
   "mimetype": "text/x-python",
   "name": "python",
   "nbconvert_exporter": "python",
   "pygments_lexer": "ipython3",
   "version": "3.13.2"
  }
 },
 "nbformat": 4,
 "nbformat_minor": 5
}
