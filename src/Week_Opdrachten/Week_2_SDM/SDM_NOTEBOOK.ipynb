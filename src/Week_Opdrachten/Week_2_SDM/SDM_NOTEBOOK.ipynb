{
 "cells": [
  {
   "cell_type": "markdown",
   "metadata": {},
   "source": [
    "# Source Database Model Opdracht"
   ]
  },
  {
   "cell_type": "markdown",
   "metadata": {},
   "source": [
    "Operationele Databases:"
   ]
  },
  {
   "cell_type": "code",
   "execution_count": 2,
   "metadata": {},
   "outputs": [],
   "source": [
    "import sqlite3\n",
    "import pandas as pd\n",
    "import pyodbc\n",
    "\n",
    "go_sales_conn = sqlite3.connect(\"../../../data/raw/go_sales_train.sqlite\")\n",
    "go_crm_conn = sqlite3.connect(\"../../../data/raw/go_crm_train.sqlite\")\n",
    "go_staff_conn = sqlite3.connect(\"../../../data/raw/go_staff_train.sqlite\")"
   ]
  },
  {
   "cell_type": "markdown",
   "metadata": {},
   "source": [
    "Connectie met SSMS voor SDM:"
   ]
  },
  {
   "cell_type": "code",
   "execution_count": 3,
   "metadata": {},
   "outputs": [],
   "source": [
    "DB = {\"servername\": r\"localhost,1433\", \"database\": \"sdm\", \"username\": \"sa\", \"password\": \"iDTyjZx7dRL4\"}\n",
    "\n",
    "export_conn = pyodbc.connect(\n",
    "    f\"DRIVER={{ODBC Driver 17 for SQL Server}};\"\n",
    "    f\"SERVER={DB['servername']};\"\n",
    "    f\"DATABASE={DB['database']};\"\n",
    "    f\"UID={DB['username']};\"\n",
    "    f\"PWD={DB['password']}\"\n",
    ")"
   ]
  },
  {
   "cell_type": "markdown",
   "metadata": {},
   "source": [
    "DataFrames maken voor tables:"
   ]
  },
  {
   "cell_type": "code",
   "execution_count": null,
   "metadata": {},
   "outputs": [],
   "source": [
    "def create_dataframes_sql(connection, db_type):\n",
    "    dictionary : dict = {}\n",
    "    query : str = \"\"\n",
    "    key : str = \"\"\n",
    "\n",
    "    if (db_type == \"sqlite\"):\n",
    "        query = \"SELECT name FROM sqlite_master WHERE type='table';\"\n",
    "        key = \"name\"\n",
    "    elif (db_type == \"ssms\"):\n",
    "        query = \"SELECT TABLE_NAME FROM INFORMATION_SCHEMA.TABLES WHERE TABLE_TYPE = 'BASE TABLE';\"\n",
    "        key = \"TABLE_NAME\"\n",
    "\n",
    "    table_names = pd.read_sql(query, connection)\n",
    "\n",
    "    for table in table_names[key].tolist():\n",
    "        dictionary[table] = pd.read_sql(f\"SELECT * FROM {table}\", connection)\n",
    "\n",
    "    return dictionary\n",
    "\n",
    "go_sales_tables = create_dataframes_sql(go_sales_conn, \"sqlite\")\n",
    "go_crm_tables = create_dataframes_sql(go_crm_conn, \"sqlite\")\n",
    "go_staff_tables = create_dataframes_sql(go_staff_conn, \"sqlite\")\n",
    "\n",
    "print(list(go_sales_tables.keys()))"
   ]
  },
  {
   "cell_type": "markdown",
   "metadata": {},
   "source": [
    "SQLite Dictionaries mergen naar 1 Dictionary:"
   ]
  },
  {
   "cell_type": "code",
   "execution_count": null,
   "metadata": {},
   "outputs": [],
   "source": [
    "go_sdm_tables = go_sales_tables | go_crm_tables | go_staff_tables # Alle drie mergen in 1 Dictionary met alle DataFrames\n",
    "\n",
    "#Forecast en inventory tables toevoegen\n",
    "inventory_df = pd.read_csv(\"../../../data/raw/inventory_levels_train.csv\")\n",
    "forecast = pd.DataFrame(columns=['PRODUCT_NUMBER', 'YEAR', 'MONTH', 'EXPECTED_VOLUME'])\n",
    "\n",
    "go_sdm_tables[\"inventory_levels\"] = inventory_df\n",
    "go_sdm_tables[\"forecast\"] = forecast\n",
    "\n",
    "# DataFrames met ontbrekende/verkeerd genoemde rows updaten:\n",
    "go_sdm_tables[\"country\"][\"LANGUAGE\"] = go_sales_tables[\"country\"][\"LANGUAGE\"]\n",
    "\n",
    "go_sdm_tables[\"country\"][\"CURRENCY_NAME\"] = go_sales_tables[\"country\"][\"CURRENCY_NAME\"]\n",
    "\n",
    "go_sdm_tables[\"country\"] = go_sdm_tables[\"country\"].rename(columns={'COUNTRY_EN': 'COUNTRY'})\n",
    "\n",
    "go_sdm_tables[\"product_line\"] = go_sales_tables[\"product_line\"]\n",
    "\n",
    "try:\n",
    "    go_sdm_tables[\"retailer_headquarters\"].drop('POSTAL_ZONE', axis=1, inplace=True)\n",
    "except KeyError:\n",
    "    print(\"Removal of Postal Zone in tables has already been complete.\")\n",
    "\n",
    "# Dictionary in goede volgorde zetten (om inserts goed te laten werken):\n",
    "dict_order = [\n",
    "    'sales_territory', \n",
    "    'country', \n",
    "    'order_method', \n",
    "    'retailer_site', \n",
    "    'sales_branch', \n",
    "    'sales_staff', \n",
    "    'retailer_contact', \n",
    "    'order_header', \n",
    "    'product_line', \n",
    "    'product_type', \n",
    "    'product', \n",
    "    'order_details', \n",
    "    'return_reason', \n",
    "    'returned_item', \n",
    "    'course', \n",
    "    'satisfaction_type', \n",
    "    'satisfaction', \n",
    "    'training',\n",
    "    'age_group',\n",
    "    'retailer_segment',\n",
    "    'retailer_headquarters',\n",
    "    'retailer_type',\n",
    "    'retailer'\n",
    "    'sales_demographic',\n",
    "    'inventory_levels',\n",
    "    'forecast'\n",
    "]\n",
    "\n",
    "go_sdm_tables = {k: go_sdm_tables[k] for k in dict_order if k in go_sdm_tables}\n",
    "\n",
    "print(list(go_sdm_tables.keys()))\n",
    "\n",
    "go_sdm_tables['retailer_site']\n"
   ]
  },
  {
   "cell_type": "markdown",
   "metadata": {},
   "source": [
    "SSMS Databases vullen:"
   ]
  },
  {
   "cell_type": "code",
   "execution_count": null,
   "metadata": {},
   "outputs": [],
   "source": [
    "export_cursor = export_conn.cursor()\n",
    "\n",
    "for table_name, df in go_sdm_tables.items():\n",
    "    try:\n",
    "        for index, row in df.iterrows():\n",
    "            columns = df.columns.tolist()\n",
    "\n",
    "            values = []\n",
    "            for col in columns:\n",
    "                value = row[col]\n",
    "\n",
    "                if pd.isna(value):\n",
    "                    values.append(\"NULL\")\n",
    "\n",
    "                elif isinstance(value, str):\n",
    "                    values.append(f\"'{value.replace(\"'\", \"''\")}'\")\n",
    "\n",
    "                else:\n",
    "                    values.append(str(value))\n",
    "\n",
    "            column_names = \", \".join(columns)\n",
    "            value_string = \", \".join(values)\n",
    "            query = f\"INSERT INTO {table_name} ({column_names}) VALUES ({value_string})\"\n",
    "\n",
    "            export_cursor.execute(query)\n",
    "    except pyodbc.Error as e:\n",
    "        print(f\"Error in table: {table_name}\")\n",
    "        print(f\"Query: {query}\")\n",
    "        print(f\"Error message: {e}\")\n",
    "        print(\"-\" * 80)\n",
    "\n",
    "export_conn.commit()\n",
    "export_cursor.close()\n"
   ]
  },
  {
   "cell_type": "markdown",
   "metadata": {},
   "source": [
    "Leegmaken van alle tables:"
   ]
  },
  {
   "cell_type": "code",
   "execution_count": null,
   "metadata": {},
   "outputs": [],
   "source": [
    "export_cursor = export_conn.cursor()\n",
    "\n",
    "tables = [\n",
    "    \"forecast\",\n",
    "    \"inventory_levels\",\n",
    "    \"sales_demographic\",\n",
    "    \"retailer\",\n",
    "    \"retailer_type\",\n",
    "    \"retailer_headquarters\",\n",
    "    \"retailer_segment\",\n",
    "    \"age_group\",\n",
    "    \"training\",\n",
    "    \"satisfaction\",\n",
    "    \"satisfaction_type\",\n",
    "    \"course\",\n",
    "    \"returned_item\",\n",
    "    \"return_reason\",\n",
    "    \"order_details\",\n",
    "    \"product\",\n",
    "    \"product_type\",\n",
    "    \"product_line\",\n",
    "    \"order_header\",\n",
    "    \"retailer_contact\",\n",
    "    \"sales_staff\",\n",
    "    \"sales_branch\",\n",
    "    \"retailer_site\",\n",
    "    \"order_method\",\n",
    "    \"country\",\n",
    "    \"sales_territory\"\n",
    "]\n",
    "\n",
    "for table in tables:\n",
    "    query = f\"DELETE FROM {table};\"\n",
    "    try:\n",
    "        export_cursor.execute(query)\n",
    "        print(f\"Cleared table: {table}\")\n",
    "    except pyodbc.Error as e:\n",
    "        print(f\"Error clearing table {table}: {e}\")\n",
    "\n",
    "export_conn.commit()\n",
    "export_cursor.close()"
   ]
  }
 ],
 "metadata": {
  "kernelspec": {
   "display_name": "venv",
   "language": "python",
   "name": "python3"
  },
  "language_info": {
   "codemirror_mode": {
    "name": "ipython",
    "version": 3
   },
   "file_extension": ".py",
   "mimetype": "text/x-python",
   "name": "python",
   "nbconvert_exporter": "python",
   "pygments_lexer": "ipython3",
   "version": "3.13.2"
  }
 },
 "nbformat": 4,
 "nbformat_minor": 2
}
